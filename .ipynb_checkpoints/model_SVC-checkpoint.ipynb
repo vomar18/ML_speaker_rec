{
 "cells": [
  {
   "cell_type": "code",
   "execution_count": 65,
   "id": "3fea005f",
   "metadata": {},
   "outputs": [],
   "source": [
    "import numpy as np\n",
    "import pandas as pd\n",
    "import matplotlib.pyplot as plt\n",
    "import sklearn as sk\n",
    "from sklearn.svm import SVC\n",
    "from sklearn.metrics import plot_confusion_matrix, confusion_matrix\n",
    "from sklearn.metrics import accuracy_score, precision_score, recall_score\n",
    "from sklearn.model_selection import train_test_split\n",
    "from sklearn.model_selection import cross_val_score\n",
    "from sklearn.multiclass import OneVsRestClassifier"
   ]
  },
  {
   "cell_type": "markdown",
   "id": "1b5d2ca2",
   "metadata": {},
   "source": [
    "Based on these 39 coefficients,\n",
    "they later apply the Support Vector Machine (SVM) classifier with a polynomial and rbf kernel to classify\n",
    "the speakers."
   ]
  },
  {
   "cell_type": "code",
   "execution_count": 34,
   "id": "a3f2131b",
   "metadata": {},
   "outputs": [
    {
     "data": {
      "text/plain": [
       "(6000, 39)"
      ]
     },
     "execution_count": 34,
     "metadata": {},
     "output_type": "execute_result"
    }
   ],
   "source": [
    "audio_data = np.load('audio_data_4_speeches.npy')\n",
    "audio_data.shape"
   ]
  },
  {
   "cell_type": "code",
   "execution_count": 35,
   "id": "c531d532",
   "metadata": {},
   "outputs": [
    {
     "name": "stdout",
     "output_type": "stream",
     "text": [
      "(6000, 13)\n",
      "(6000, 26)\n",
      "(6000, 39)\n"
     ]
    }
   ],
   "source": [
    "dataset_mfcc = audio_data[:,0:13]\n",
    "print(dataset_mfcc.shape)\n",
    "dataset_mfcc_d = audio_data[:,0:26]\n",
    "print(dataset_mfcc_d.shape)\n",
    "dataset_mfcc_d_d = audio_data\n",
    "print(dataset_mfcc_d_d.shape)"
   ]
  },
  {
   "cell_type": "code",
   "execution_count": 36,
   "id": "716337b9",
   "metadata": {},
   "outputs": [],
   "source": [
    "fi_s_test_vec = np.concatenate((np.ones(1500),np.zeros(4500)))\n",
    "se_s_test_vec = np.concatenate((np.zeros(1500),np.ones(1500), np.zeros(3000)))\n",
    "th_s_test_vec = np.concatenate((np.zeros(3000), np.zeros(1500), np.zeros(1500)))\n",
    "fo_s_test_vec = np.concatenate((np.zeros(4500), np.ones(1500)))"
   ]
  },
  {
   "cell_type": "code",
   "execution_count": 47,
   "id": "148a46a7",
   "metadata": {},
   "outputs": [],
   "source": [
    "## divide all the dataset for training and for testing (only mfcc??)\n",
    "X_train, X_test, y_train, y_test = train_test_split(dataset_mfcc, fi_s_test_vec, test_size=0.4, random_state=1)"
   ]
  },
  {
   "cell_type": "markdown",
   "id": "2f5d4c1b",
   "metadata": {},
   "source": [
    "### THIS IS 10-FOLD CROSS VALIDATION\n",
    "With K-fold cross validation we can see that the dataset got split into 10 equal parts thus covering all the data into training as well into testing set.This is the reason we got 10 different accuracy score.\n",
    "\n",
    "Taking all the values of C and checking out the accuracy score with kernel as linear."
   ]
  },
  {
   "cell_type": "code",
   "execution_count": 61,
   "id": "99ec6a32",
   "metadata": {},
   "outputs": [
    {
     "name": "stdout",
     "output_type": "stream",
     "text": [
      "accuracy lin: 1.0\n",
      "[1.0, 1.0, 1.0, 1.0, 1.0, 1.0, 1.0, 1.0, 1.0, 1.0, 1.0, 1.0, 1.0, 1.0, 1.0, 1.0, 1.0, 1.0, 1.0, 1.0, 1.0, 1.0, 1.0, 1.0, 1.0]\n"
     ]
    },
    {
     "data": {
      "text/plain": [
       "Text(0, 0.5, 'Cross-Validated Accuracy')"
      ]
     },
     "execution_count": 61,
     "metadata": {},
     "output_type": "execute_result"
    },
    {
     "data": {
      "image/png": "[encoded data removed]",
      "text/plain": [
       "<Figure size 432x288 with 1 Axes>"
      ]
     },
     "metadata": {
      "needs_background": "light"
     },
     "output_type": "display_data"
    }
   ],
   "source": [
    "# find best SVC - Linear\n",
    "svc_lin = SVC(kernel='linear')\n",
    "svc_lin.fit(X_train, y_train)\n",
    "y_pred = svc_lin.predict(X_test)\n",
    "print(\"accuracy lin:\", accuracy_score(y_test, y_pred))\n",
    "\n",
    "C_range=list(range(1,26))\n",
    "acc_score=[]\n",
    "for c in C_range:\n",
    "    svc_lin = SVC(kernel='linear', C=c)\n",
    "    scores = cross_val_score(svc_lin, dataset_mfcc, fi_s_test_vec, cv=10, scoring='accuracy')\n",
    "    acc_score.append(scores.mean())\n",
    "print(acc_score)  \n",
    "\n",
    "# plot the value of C for SVM (x-axis) versus the cross-validated accuracy (y-axis)\n",
    "plt.plot(C_range,acc_score)\n",
    "plt.xticks(np.arange(0,27,2))\n",
    "plt.xlabel('Value of C for SVC')\n",
    "plt.ylabel('Cross-Validated Accuracy')"
   ]
  },
  {
   "cell_type": "code",
   "execution_count": null,
   "id": "eb0c0f22",
   "metadata": {},
   "outputs": [],
   "source": [
    "# dovresti analizzare tra 0.1 e max dove hai la punta più alta\n",
    "C_range=list(np.arange(0.1,6,0.1))\n",
    "acc_score=[]\n",
    "for c in C_range:\n",
    "    svc_lin = SVC(kernel='linear', C=c)\n",
    "    scores = cross_val_score(svc_lin, dataset_mfcc, fi_s_test_vec, cv=10, scoring='accuracy')\n",
    "    acc_score.append(scores.mean())\n",
    "print(acc_score)  \n",
    "\n",
    "# plot the value of C for SVM (x-axis) versus the cross-validated accuracy (y-axis)\n",
    "plt.plot(C_range,acc_score)\n",
    "plt.xticks(np.arange(0.0,6,0.3))\n",
    "plt.xlabel('Value of C for SVC ')\n",
    "plt.ylabel('Cross-Validated Accuracy')"
   ]
  },
  {
   "cell_type": "code",
   "execution_count": 58,
   "id": "ca100c46",
   "metadata": {},
   "outputs": [
    {
     "name": "stdout",
     "output_type": "stream",
     "text": [
      "accuracy poly: 0.9991666666666666\n",
      "[0.999, 0.9981666666666665, 0.999, 0.9978333333333331, 0.9868333333333332]\n"
     ]
    },
    {
     "data": {
      "text/plain": [
       "Text(0, 0.5, 'Cross-Validated Accuracy')"
      ]
     },
     "execution_count": 58,
     "metadata": {},
     "output_type": "execute_result"
    },
    {
     "data": {
      "image/png": "[encoded data removed]",
      "text/plain": [
       "<Figure size 432x288 with 1 Axes>"
      ]
     },
     "metadata": {
      "needs_background": "light"
     },
     "output_type": "display_data"
    }
   ],
   "source": [
    "# find best SVC - Poly\n",
    "svc_poly = SVC(kernel='poly')\n",
    "svc_poly.fit(X_train, y_train)\n",
    "y_pred = svc_poly.predict(X_test)\n",
    "print(\"accuracy poly:\", accuracy_score(y_test, y_pred))\n",
    "\n",
    "degree=[2,3,4,5,6]\n",
    "acc_score=[]\n",
    "for d in degree:\n",
    "    svc_poly = SVC(kernel='poly', degree=d)\n",
    "    scores = cross_val_score(svc_poly, dataset_mfcc, fi_s_test_vec, cv=10, scoring='accuracy')\n",
    "    acc_score.append(scores.mean())\n",
    "print(acc_score) \n",
    "\n",
    "# plot the value of C for SVM (x-axis) versus the cross-validated accuracy (y-axis)\n",
    "plt.plot(degree,acc_score,color='r')\n",
    "plt.xlabel('degrees for SVC ')\n",
    "plt.ylabel('Cross-Validated Accuracy')"
   ]
  },
  {
   "cell_type": "markdown",
   "id": "ca97fe07",
   "metadata": {},
   "source": [
    "**Score is high for third degree polynomial and then there is drop in the accuracy score as degree of polynomial increases.Thus increase in polynomial degree results in high complexity of the model and thus causes overfitting.**"
   ]
  },
  {
   "cell_type": "code",
   "execution_count": 59,
   "id": "cb8ed632",
   "metadata": {},
   "outputs": [
    {
     "name": "stdout",
     "output_type": "stream",
     "text": [
      "accuracy rbf: 1.0\n",
      "[1.0, 0.9996666666666666, 0.8983333333333332, 0.7648333333333334, 0.75, 0.75, 0.75]\n"
     ]
    },
    {
     "data": {
      "text/plain": [
       "Text(0, 0.5, 'Cross-Validated Accuracy')"
      ]
     },
     "execution_count": 59,
     "metadata": {},
     "output_type": "execute_result"
    },
    {
     "data": {
      "image/png": "[encoded data removed]",
      "text/plain": [
       "<Figure size 432x288 with 1 Axes>"
      ]
     },
     "metadata": {
      "needs_background": "light"
     },
     "output_type": "display_data"
    }
   ],
   "source": [
    "# find best SVC - Rbf\n",
    "svc_rbf = SVC(kernel='rbf')\n",
    "svc_rbf.fit(X_train, y_train)\n",
    "y_pred = svc_rbf.predict(X_test)\n",
    "print(\"accuracy rbf:\", accuracy_score(y_test, y_pred))\n",
    "\n",
    "gamma_range=[0.0001,0.001,0.01,0.1,1,10,100]\n",
    "acc_score=[]\n",
    "for g in gamma_range:\n",
    "    svc_rbf = SVC(kernel='rbf', gamma=g)\n",
    "    scores = cross_val_score(svc_rbf, dataset_mfcc, fi_s_test_vec, cv=10, scoring='accuracy')\n",
    "    acc_score.append(scores.mean())\n",
    "print(acc_score)\n",
    "\n",
    "# plot the value of C for SVM (x-axis) versus the cross-validated accuracy (y-axis)\n",
    "plt.plot(gamma_range,acc_score)\n",
    "plt.xlabel('Value of gamma for SVC ')\n",
    "plt.xticks(np.arange(0.0001,100,5))\n",
    "plt.ylabel('Cross-Validated Accuracy')\n"
   ]
  },
  {
   "cell_type": "code",
   "execution_count": 63,
   "id": "c25479ba",
   "metadata": {},
   "outputs": [
    {
     "name": "stdout",
     "output_type": "stream",
     "text": [
      "[1.0, 0.9996666666666666, 0.8983333333333332, 0.7648333333333334]\n"
     ]
    },
    {
     "data": {
      "text/plain": [
       "Text(0, 0.5, 'Cross-Validated Accuracy')"
      ]
     },
     "execution_count": 63,
     "metadata": {},
     "output_type": "execute_result"
    },
    {
     "data": {
      "image/png": "[encoded data removed]",
      "text/plain": [
       "<Figure size 432x288 with 1 Axes>"
      ]
     },
     "metadata": {
      "needs_background": "light"
     },
     "output_type": "display_data"
    }
   ],
   "source": [
    "gamma_range=[0.0001,0.001,0.01,0.1]\n",
    "acc_score=[]\n",
    "for g in gamma_range:\n",
    "    svc_rbf = SVC(kernel='rbf', gamma=g)\n",
    "    scores = cross_val_score(svc_rbf, dataset_mfcc, fi_s_test_vec, cv=10, scoring='accuracy')\n",
    "    acc_score.append(scores.mean())\n",
    "print(acc_score)  \n",
    "\n",
    "# plot the value of C for SVM (x-axis) versus the cross-validated accuracy (y-axis)\n",
    "plt.plot(gamma_range,acc_score)\n",
    "plt.xlabel('Value of gamma for SVC ')\n",
    "plt.ylabel('Cross-Validated Accuracy')"
   ]
  },
  {
   "cell_type": "code",
   "execution_count": 64,
   "id": "a278953e",
   "metadata": {},
   "outputs": [
    {
     "name": "stdout",
     "output_type": "stream",
     "text": [
      "[0.8983333333333332, 0.8168333333333333, 0.8003333333333333, 0.7903333333333334]\n"
     ]
    },
    {
     "data": {
      "text/plain": [
       "Text(0, 0.5, 'Cross-Validated Accuracy')"
      ]
     },
     "execution_count": 64,
     "metadata": {},
     "output_type": "execute_result"
    },
    {
     "data": {
      "image/png": "[encoded data removed]",
      "text/plain": [
       "<Figure size 432x288 with 1 Axes>"
      ]
     },
     "metadata": {
      "needs_background": "light"
     },
     "output_type": "display_data"
    }
   ],
   "source": [
    "gamma_range=[0.01,0.02,0.03,0.04]\n",
    "acc_score=[]\n",
    "for g in gamma_range:\n",
    "    svc_rbf = SVC(kernel='rbf', gamma=g)\n",
    "    scores = cross_val_score(svc_rbf, dataset_mfcc, fi_s_test_vec, cv=10, scoring='accuracy')\n",
    "    acc_score.append(scores.mean())\n",
    "print(acc_score)\n",
    "\n",
    "# plot the value of C for SVM (x-axis) versus the cross-validated accuracy (y-axis)\n",
    "plt.plot(gamma_range,acc_score)\n",
    "plt.xlabel('Value of gamma for SVC ')\n",
    "plt.ylabel('Cross-Validated Accuracy')"
   ]
  },
  {
   "cell_type": "code",
   "execution_count": null,
   "id": "8c070f32",
   "metadata": {},
   "outputs": [],
   "source": []
  },
  {
   "cell_type": "code",
   "execution_count": null,
   "id": "7a1e0a78",
   "metadata": {},
   "outputs": [],
   "source": [
    "# apply your model to predict who is the speaker\n",
    "predicted_poly = svc_poly.predict(test_data)\n",
    "predicted_linear = svc_linear.predict(test_data)\n",
    "predicted_rbf = svc_rbf.predict(test_data)\n",
    "\n",
    "# Calculate confusion matrix using sklearn\n",
    "conf_matrix_poly = confusion_matrix(test_labels, predicted_poly)\n",
    "conf_matrix_linear = confusion_matrix(test_labels, predicted_linear)\n",
    "conf_matrix_rbf = confusion_matrix(test_labels, predicted_rbf)\n",
    "\n",
    "print(conf_matrix_poly)\n",
    "print(conf_matrix_linear)\n",
    "print(conf_matrix_rbf)"
   ]
  },
  {
   "cell_type": "markdown",
   "id": "b04e825c",
   "metadata": {},
   "source": [
    "### multiclass SVM (one vs rest)\n",
    "there are the audio speaker you want that are the positive \n",
    "and all other sperkers are negatives   you have to train 1 classifier for each class "
   ]
  },
  {
   "cell_type": "code",
   "execution_count": null,
   "id": "67349662",
   "metadata": {},
   "outputs": [],
   "source": [
    "classif = OneVsRestClassifier(SVC(kernel=\"linear\"))\n",
    "classif.fit(X, Y)"
   ]
  }
 ],
 "metadata": {
  "kernelspec": {
   "display_name": "Python 3",
   "language": "python",
   "name": "python3"
  },
  "language_info": {
   "codemirror_mode": {
    "name": "ipython",
    "version": 3
   },
   "file_extension": ".py",
   "mimetype": "text/x-python",
   "name": "python",
   "nbconvert_exporter": "python",
   "pygments_lexer": "ipython3",
   "version": "3.8.8"
  }
 },
 "nbformat": 4,
 "nbformat_minor": 5
}
