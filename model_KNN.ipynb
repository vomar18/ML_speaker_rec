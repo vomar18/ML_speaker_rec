{
 "cells": [
  {
   "cell_type": "code",
   "execution_count": 29,
   "id": "2bfe2a1a",
   "metadata": {},
   "outputs": [],
   "source": [
    "import numpy as np \n",
    "from sklearn.model_selection import train_test_split\n",
    "from scipy.spatial.distance import cdist\n",
    "from sklearn.preprocessing import MinMaxScaler\n",
    "from scipy.spatial.distance import cdist\n",
    "from scipy import stats\n",
    "import matplotlib.pyplot as plt\n",
    "from sklearn.neighbors import KNeighborsClassifier "
   ]
  },
  {
   "cell_type": "code",
   "execution_count": 3,
   "id": "f49335f0",
   "metadata": {},
   "outputs": [
    {
     "data": {
      "text/plain": [
       "(6000, 39)"
      ]
     },
     "execution_count": 3,
     "metadata": {},
     "output_type": "execute_result"
    }
   ],
   "source": [
    "audio_data = np.load('audio_data_4_speeches.npy')\n",
    "audio_data.shape"
   ]
  },
  {
   "cell_type": "code",
   "execution_count": 4,
   "id": "92e7067e",
   "metadata": {},
   "outputs": [],
   "source": [
    "# bisogna sempre applicare la normalizzazione delle features in fase di training \n",
    "scaler = MinMaxScaler()\n",
    "scaler.fit(audio_data)\n",
    "audio_data_scaled = scaler.transform(audio_data)"
   ]
  },
  {
   "cell_type": "code",
   "execution_count": 5,
   "id": "5e3e756c",
   "metadata": {},
   "outputs": [
    {
     "data": {
      "text/plain": [
       "(6000,)"
      ]
     },
     "execution_count": 5,
     "metadata": {},
     "output_type": "execute_result"
    }
   ],
   "source": [
    "fi_s_test_vec = np.zeros(1500)\n",
    "se_s_test_vec = np.ones(1500)\n",
    "th_s_test_vec = np.ones(1500)*2\n",
    "fo_s_test_vec = np.ones(1500)*3\n",
    "test_vect = np.concatenate((fi_s_test_vec, se_s_test_vec, th_s_test_vec, fo_s_test_vec))\n",
    "test_vect.shape"
   ]
  },
  {
   "cell_type": "code",
   "execution_count": 6,
   "id": "e463173e",
   "metadata": {},
   "outputs": [],
   "source": [
    "## divide all the dataset for training and for testing (only mfcc??)\n",
    "X_train, X_test, y_train, y_test = train_test_split(audio_data[:,0:13], test_vect, test_size=0.15, random_state=1)"
   ]
  },
  {
   "cell_type": "markdown",
   "id": "7ff06d3c",
   "metadata": {},
   "source": [
    "this is the implementation of the k nearest neighbors, prendo come riferimento non il baricentro di tutte le classi ma un insieme di punti "
   ]
  },
  {
   "cell_type": "code",
   "execution_count": 23,
   "id": "3f3d8349",
   "metadata": {},
   "outputs": [],
   "source": [
    "dist = 'euclidean'\n",
    "accuracy_score = []\n",
    "for k in range(1,101):\n",
    "    distance_matrix = cdist(X_train, X_test, metric=dist) # compare the distance between each points and all test points\n",
    "    neighbors = np.argsort(distance_matrix, axis=0) # return the index in incremental order (trainxtest) (index)\n",
    "    #print(neighbors.shape) \n",
    "    K_neighbors = neighbors[:K, :] # take only the first k-th train elements x test values\n",
    "    #print(K_neighbors.shape)\n",
    "    neighbors_labels = y_train[K_neighbors]\n",
    "    prediction = stats.mode(neighbors_labels, axis=0)[0] # find the most frequent label\n",
    "    # now calculate the accuracy\n",
    "    accuracy = np.sum(prediction==y_test)/len(y_test)\n",
    "    accuracy_score.append(accuracy)"
   ]
  },
  {
   "cell_type": "code",
   "execution_count": 24,
   "id": "2e49fcba",
   "metadata": {},
   "outputs": [
    {
     "data": {
      "image/png": "[encoded data removed]",
      "text/plain": [
       "<Figure size 576x432 with 1 Axes>"
      ]
     },
     "metadata": {
      "needs_background": "light"
     },
     "output_type": "display_data"
    }
   ],
   "source": [
    "# Plot the results \n",
    "fig, ax = plt.subplots(figsize=(8,6))\n",
    "ax.set_title(\"KNN-dist: euclidean\")\n",
    "ax.plot(range(1,101), accuracy_score)\n",
    "ax.set_xlabel('# of Nearest Neighbors (k)')\n",
    "ax.set_ylabel('Accuracy (%)');"
   ]
  },
  {
   "cell_type": "code",
   "execution_count": 30,
   "id": "63a2e2c2",
   "metadata": {},
   "outputs": [
    {
     "name": "stdout",
     "output_type": "stream",
     "text": [
      "0.9755555555555555\n"
     ]
    }
   ],
   "source": [
    "knn = KNeighborsClassifier(n_neighbors=7)\n",
    "knn.fit(X_train, y_train)\n",
    "print(knn.score(X_test, y_test))"
   ]
  },
  {
   "cell_type": "code",
   "execution_count": 25,
   "id": "bd9e9da2",
   "metadata": {},
   "outputs": [],
   "source": [
    "dist = 'cityblock'\n",
    "accuracy_score = []\n",
    "for k in range(1,101):\n",
    "    distance_matrix = cdist(X_train, X_test, metric=dist) # compare the distance between each points and all test points\n",
    "    neighbors = np.argsort(distance_matrix, axis=0) # return the index in incremental order (trainxtest) (index)\n",
    "    #print(neighbors.shape) \n",
    "    K_neighbors = neighbors[:K, :] # take only the first k-th train elements x test values\n",
    "    #print(K_neighbors.shape)\n",
    "    neighbors_labels = y_train[K_neighbors]\n",
    "    prediction = stats.mode(neighbors_labels, axis=0)[0] # find the most frequent label\n",
    "    # now calculate the accuracy\n",
    "    accuracy = np.sum(prediction==y_test)/len(y_test)\n",
    "    accuracy_score.append(accuracy)"
   ]
  },
  {
   "cell_type": "code",
   "execution_count": 26,
   "id": "602b9da0",
   "metadata": {},
   "outputs": [
    {
     "data": {
      "image/png": "[encoded data removed]",
      "text/plain": [
       "<Figure size 576x432 with 1 Axes>"
      ]
     },
     "metadata": {
      "needs_background": "light"
     },
     "output_type": "display_data"
    }
   ],
   "source": [
    "# Plot the results \n",
    "fig, ax = plt.subplots(figsize=(8,6))\n",
    "ax.set_title(\"KNN-dist: cityblock\")\n",
    "ax.plot(range(1,101), accuracy_score)\n",
    "ax.set_xlabel('# of Nearest Neighbors (k)')\n",
    "ax.set_ylabel('Accuracy (%)');"
   ]
  },
  {
   "cell_type": "code",
   "execution_count": 27,
   "id": "e6da1da9",
   "metadata": {},
   "outputs": [],
   "source": [
    "dist = 'cosine'\n",
    "accuracy_score = []\n",
    "for k in range(1,101):\n",
    "    distance_matrix = cdist(X_train, X_test, metric=dist) # compare the distance between each points and all test points\n",
    "    neighbors = np.argsort(distance_matrix, axis=0) # return the index in incremental order (trainxtest) (index)\n",
    "    #print(neighbors.shape) \n",
    "    K_neighbors = neighbors[:K, :] # take only the first k-th train elements x test values\n",
    "    #print(K_neighbors.shape)\n",
    "    neighbors_labels = y_train[K_neighbors]\n",
    "    prediction = stats.mode(neighbors_labels, axis=0)[0] # find the most frequent label\n",
    "    # now calculate the accuracy\n",
    "    accuracy = np.sum(prediction==y_test)/len(y_test)\n",
    "    accuracy_score.append(accuracy)"
   ]
  },
  {
   "cell_type": "code",
   "execution_count": 28,
   "id": "55314b9f",
   "metadata": {},
   "outputs": [
    {
     "data": {
      "image/png": "[encoded data removed]",
      "text/plain": [
       "<Figure size 576x432 with 1 Axes>"
      ]
     },
     "metadata": {
      "needs_background": "light"
     },
     "output_type": "display_data"
    }
   ],
   "source": [
    "# Plot the results \n",
    "fig, ax = plt.subplots(figsize=(8,6))\n",
    "ax.set_title(\"KNN-dist: cosine\")\n",
    "ax.plot(range(1,101), accuracy_score)\n",
    "ax.set_xlabel('# of Nearest Neighbors (k)')\n",
    "ax.set_ylabel('Accuracy (%)');"
   ]
  },
  {
   "cell_type": "code",
   "execution_count": null,
   "id": "9053630a",
   "metadata": {},
   "outputs": [],
   "source": []
  }
 ],
 "metadata": {
  "kernelspec": {
   "display_name": "Python 3",
   "language": "python",
   "name": "python3"
  },
  "language_info": {
   "codemirror_mode": {
    "name": "ipython",
    "version": 3
   },
   "file_extension": ".py",
   "mimetype": "text/x-python",
   "name": "python",
   "nbconvert_exporter": "python",
   "pygments_lexer": "ipython3",
   "version": "3.8.8"
  }
 },
 "nbformat": 4,
 "nbformat_minor": 5
}
