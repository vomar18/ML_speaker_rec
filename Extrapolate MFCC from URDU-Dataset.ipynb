{
 "cells": [
  {
   "cell_type": "code",
   "execution_count": 7,
   "id": "28be8b3b",
   "metadata": {},
   "outputs": [],
   "source": [
    "import numpy as np\n",
    "import scipy.io.wavfile as wav\n",
    "import os\n",
    "from os import walk\n",
    "import csv # create the datastet from the audio data\n",
    "import matplotlib.pyplot as plt\n",
    "import librosa as l"
   ]
  },
  {
   "cell_type": "code",
   "execution_count": 14,
   "id": "e5d1ffa5",
   "metadata": {},
   "outputs": [],
   "source": [
    "sample_rate = 44100\n",
    "folder_happy = '../URDU-Dataset/Happy/'\n",
    "folder_sad = '../URDU-Dataset/Sad/'\n",
    "folder_neutral = '../URDU-Dataset/Neutral/'\n",
    "folder_angry = '../URDU-Dataset/Angry/'\n",
    "general_path = [folder_happy, folder_sad, folder_neutral, folder_angry]"
   ]
  },
  {
   "cell_type": "code",
   "execution_count": 5,
   "id": "ba536510",
   "metadata": {},
   "outputs": [
    {
     "name": "stdout",
     "output_type": "stream",
     "text": [
      "tot file audio happy: 100\n",
      "tot file audio sad: 100\n",
      "tot file audio neutral: 100\n",
      "tot file audio happy: 100\n"
     ]
    }
   ],
   "source": [
    "tot_audio_files_happy = len(os.listdir(folder_happy))\n",
    "print(\"tot file audio happy:\", tot_audio_files_happy)\n",
    "\n",
    "tot_audio_files_sad = len(os.listdir(folder_sad))\n",
    "print(\"tot file audio sad:\", tot_audio_files_sad)\n",
    "\n",
    "tot_audio_files_neutral = len(os.listdir(folder_neutral))\n",
    "print(\"tot file audio neutral:\", tot_audio_files_neutral)\n",
    "\n",
    "tot_audio_files_angry = len(os.listdir(folder_angry))\n",
    "print(\"tot file audio happy:\", tot_audio_files_angry)"
   ]
  },
  {
   "cell_type": "code",
   "execution_count": 25,
   "id": "9b0e6ab6",
   "metadata": {},
   "outputs": [
    {
     "name": "stdout",
     "output_type": "stream",
     "text": [
      "check: ../URDU-Dataset/Happy/     \ttot male: 54 tot female: 46\n",
      "check: ../URDU-Dataset/Sad/     \ttot male: 94 tot female: 6\n",
      "check: ../URDU-Dataset/Neutral/     \ttot male: 96 tot female: 4\n",
      "check: ../URDU-Dataset/Angry/     \ttot male: 100 tot female: 0\n",
      "[ 0. 22. 28. 12. 48. 80. 14. 28.  0.  0.  0.  0.  0.  0.  0.  0.  0.  2.\n",
      "  2.  2. 10.  4.  2.  6. 38. 40.  2.  4.  0.  0.  0.  0.  0.  0.  0.  0.\n",
      "  0.  0.  0.  0.]\n",
      "[ 0. 12.  2.  2.  4.  4. 14.  6.  2.  4.  2.  4.  0.  0.  0.  0.  0.  0.\n",
      "  0.  0.  0.  0.  0.  0.  0.  0.  0.  0.  0.  0.  0.  0.  0.  0.  0.  0.\n",
      "  0.  0.  0.  0.]\n"
     ]
    }
   ],
   "source": [
    "tot_male = 0\n",
    "tot_female = 0\n",
    "speaker_male = np.zeros(40)\n",
    "speaker_female = np.zeros(40)\n",
    "for i in range(4):\n",
    "    partial_male = 0\n",
    "    partial_female = 0\n",
    "    check_folder = general_path[i]\n",
    "    \n",
    "    files = []\n",
    "    for (dirpath, dirnames, filenames) in walk(check_folder):\n",
    "        files.extend(filenames)\n",
    "\n",
    "    for audio in files:\n",
    "        if (audio[1] == 'M')or(audio[1] == 'F'):\n",
    "            if audio[1] == 'M':\n",
    "                partial_male+=1\n",
    "                if audio[3]== '_': # just 1 digit\n",
    "                    speaker_male[int(audio[2])]+=1\n",
    "                else:\n",
    "                    speaker_male[int(audio[2])*10+int(audio[3])]+=1\n",
    "            else:\n",
    "                partial_female+=1\n",
    "                if audio[3]== '_': # just 1 digit\n",
    "                    speaker_female[int(audio[2])]+=1\n",
    "                else:\n",
    "                    speaker_female[int(audio[2])*10+int(audio[3])]+=1\n",
    "                \n",
    "\n",
    "                \n",
    "        else:\n",
    "            print(\"strange:\",audio[1])\n",
    "    tot_male+=partial_male\n",
    "    tot_female+=partial_female\n",
    "    \n",
    "    print(\"check:\", check_folder,\"    \\ttot male:\", partial_male, \"tot female:\", partial_female)\n",
    "\n",
    "print(speaker_male)\n",
    "print(speaker_female)"
   ]
  },
  {
   "cell_type": "code",
   "execution_count": null,
   "id": "3c7284ca",
   "metadata": {},
   "outputs": [],
   "source": []
  }
 ],
 "metadata": {
  "kernelspec": {
   "display_name": "Python 3",
   "language": "python",
   "name": "python3"
  },
  "language_info": {
   "codemirror_mode": {
    "name": "ipython",
    "version": 3
   },
   "file_extension": ".py",
   "mimetype": "text/x-python",
   "name": "python",
   "nbconvert_exporter": "python",
   "pygments_lexer": "ipython3",
   "version": "3.8.8"
  }
 },
 "nbformat": 4,
 "nbformat_minor": 5
}
